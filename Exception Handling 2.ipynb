{
 "cells": [
  {
   "cell_type": "code",
   "execution_count": 1,
   "id": "4af0a68d-18d4-469c-8ede-aa6efe25bc03",
   "metadata": {},
   "outputs": [],
   "source": [
    "#  BaseException is the common base class of all exceptions. One of its subclasses-Exception ,\n",
    "# is the base class of all the non-fatal exceptions.\n",
    "# it inherites exception featuesin the custom exception class"
   ]
  },
  {
   "cell_type": "code",
   "execution_count": 3,
   "id": "4c0c0a17-b81e-4ad2-b77b-4403effa425e",
   "metadata": {},
   "outputs": [
    {
     "name": "stdout",
     "output_type": "stream",
     "text": [
      "[Errno 2] No such file or directory: 'myfile.txt'\n"
     ]
    }
   ],
   "source": [
    "try:\n",
    "    f=open(\"myfile.txt\",\"r\")\n",
    "    f.read()\n",
    "    \n",
    "except FileNotFoundError as e:\n",
    "    print(e)"
   ]
  },
  {
   "cell_type": "code",
   "execution_count": 5,
   "id": "98a6fa7c-b7a6-4cd8-b311-01d1f7e9c1cb",
   "metadata": {},
   "outputs": [],
   "source": [
    "# A built-in exception in Python is raised when an arithmetic operation fails.\n",
    "# This Exception is a base class for other specific arithmetic exceptions, such as ZeroDivisionError and OverflowError."
   ]
  },
  {
   "cell_type": "code",
   "execution_count": 12,
   "id": "827a0f10-426f-42ff-942a-f9429cf1772d",
   "metadata": {},
   "outputs": [
    {
     "name": "stdout",
     "output_type": "stream",
     "text": [
      "you have just done zero division error division by zero\n"
     ]
    }
   ],
   "source": [
    "try :\n",
    "    arithmatic=50/0\n",
    "    print(arithmatic)\n",
    "except ZeroDivisionError as e:\n",
    "    print( \"you have just done zero division error\",e)"
   ]
  },
  {
   "cell_type": "code",
   "execution_count": 18,
   "id": "94b70bf1-65c2-495e-bd03-df833601aefd",
   "metadata": {},
   "outputs": [
    {
     "name": "stdin",
     "output_type": "stream",
     "text": [
      " 85\n"
     ]
    },
    {
     "name": "stdout",
     "output_type": "stream",
     "text": [
      "1.9687440434072266e+18\n",
      "8.747673630108612e+191\n",
      " this is an overflow error integer division result too large for a float\n"
     ]
    }
   ],
   "source": [
    "try :\n",
    "    a=int(input())\n",
    "    for i in range(1000):\n",
    "        a=a**10\n",
    "        print(a/10)\n",
    "except  OverflowError as e:\n",
    "    print(\" this is an overflow error\", e)"
   ]
  },
  {
   "cell_type": "code",
   "execution_count": null,
   "id": "c9470691-2378-44fa-b6ba-d4210d967273",
   "metadata": {},
   "outputs": [],
   "source": [
    "# LookupError Exception is the Base class for errors raised when something can't be found. \n",
    "# The base class for the exceptions that are raised when a key or index used on a mapping or sequence is invalid: IndexError, KeyError.\n",
    "# An IndexError is raised when a sequence reference is out of range."
   ]
  },
  {
   "cell_type": "code",
   "execution_count": 21,
   "id": "7b222bdc-abda-45a5-96c7-644eacafa7a3",
   "metadata": {},
   "outputs": [
    {
     "name": "stdout",
     "output_type": "stream",
     "text": [
      "'a1'\n"
     ]
    }
   ],
   "source": [
    "try :\n",
    "    d={'a':\"Monkey\",\"b\":\"Tiger\"}\n",
    "    print(d[\"a1\"])\n",
    "except KeyError as e:\n",
    "    print(e)"
   ]
  },
  {
   "cell_type": "code",
   "execution_count": 24,
   "id": "21b8c43e-97ff-435f-8740-c811ffb6398e",
   "metadata": {},
   "outputs": [
    {
     "name": "stdout",
     "output_type": "stream",
     "text": [
      "list index out of range\n"
     ]
    }
   ],
   "source": [
    "try :\n",
    "    l=[1,2,3,4]\n",
    "    print(l[5])\n",
    "except IndexError as e:\n",
    "    print(e)"
   ]
  },
  {
   "cell_type": "code",
   "execution_count": 25,
   "id": "da346d6b-dbe9-4584-8954-049757d1e052",
   "metadata": {},
   "outputs": [],
   "source": [
    "# In Python, ImportError occurs when the Python program tries to import module which does not exist in the private table. "
   ]
  },
  {
   "cell_type": "code",
   "execution_count": 26,
   "id": "9ec6f70b-6335-4fb0-a4cf-21d20131f72f",
   "metadata": {},
   "outputs": [],
   "source": [
    "# A typical problem in Python is the ModuleNotFoundError: No module called Python error, \n",
    "# which happens when the interpreter cannot locate a module that has been imported in the code. There are several potential causes for this issue, \n",
    "# including: Incorrect Spelling of the Module Name."
   ]
  },
  {
   "cell_type": "code",
   "execution_count": 27,
   "id": "defef1b5-f41c-4035-8071-3464c3300e8e",
   "metadata": {},
   "outputs": [
    {
     "name": "stdout",
     "output_type": "stream",
     "text": [
      "division by zero\n"
     ]
    }
   ],
   "source": [
    "try:\n",
    "    45/0\n",
    "    \n",
    "except ZeroDivisionError as e:\n",
    "    print(e)\n"
   ]
  },
  {
   "cell_type": "code",
   "execution_count": 30,
   "id": "8b94194f-4ba9-492e-be65-013b347ddd68",
   "metadata": {},
   "outputs": [],
   "source": [
    "import logging\n",
    "\n",
    "logging.basicConfig(filename=\"test.txt\", level=logging.INFO)\n",
    "\n",
    "try:\n",
    "    with open (\"test.txt\",\"r\") as f:\n",
    "        f.read()\n",
    "        \n",
    "except FileNotFoundError as e :\n",
    "    print(\" this file is not found\",e)\n",
    "    \n",
    "finally:\n",
    "    logging.shutdown()"
   ]
  },
  {
   "cell_type": "code",
   "execution_count": null,
   "id": "0a1c3c6d-2daf-4b90-b9b2-28a2d16faaba",
   "metadata": {},
   "outputs": [],
   "source": []
  }
 ],
 "metadata": {
  "kernelspec": {
   "display_name": "Python 3 (ipykernel)",
   "language": "python",
   "name": "python3"
  },
  "language_info": {
   "codemirror_mode": {
    "name": "ipython",
    "version": 3
   },
   "file_extension": ".py",
   "mimetype": "text/x-python",
   "name": "python",
   "nbconvert_exporter": "python",
   "pygments_lexer": "ipython3",
   "version": "3.10.8"
  }
 },
 "nbformat": 4,
 "nbformat_minor": 5
}
